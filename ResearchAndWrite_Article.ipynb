{
 "cells": [
  {
   "cell_type": "markdown",
   "metadata": {},
   "source": [
    "# Create Agents to Research and Write an Article\n",
    "Get foundational concepts of multi-agent systems and get an overview of the crewAI framework."
   ]
  },
  {
   "cell_type": "markdown",
   "metadata": {},
   "source": [
    "Install the following libraries"
   ]
  },
  {
   "cell_type": "code",
   "execution_count": null,
   "metadata": {},
   "outputs": [],
   "source": [
    "%pip install crewai==0.1.32 langchain_community"
   ]
  },
  {
   "cell_type": "markdown",
   "metadata": {},
   "source": [
    "Import from the crewAI libray."
   ]
  },
  {
   "cell_type": "code",
   "execution_count": 1,
   "metadata": {},
   "outputs": [
    {
     "name": "stderr",
     "output_type": "stream",
     "text": [
      "/Users/Roshan_Jangid/Library/CloudStorage/OneDrive-McKinsey&Company/Desktop/PythonScripts/pysparkenv/lib/python3.9/site-packages/urllib3/__init__.py:35: NotOpenSSLWarning: urllib3 v2 only supports OpenSSL 1.1.1+, currently the 'ssl' module is compiled with 'LibreSSL 2.8.3'. See: https://github.com/urllib3/urllib3/issues/3020\n",
      "  warnings.warn(\n"
     ]
    }
   ],
   "source": [
    "from crewai import Agent, Task, Crew"
   ]
  },
  {
   "cell_type": "markdown",
   "metadata": {},
   "source": [
    "As a LLM for your agents, you'll be using OpenAI's gpt-3.5-turbo.\n",
    "Optional Note: crewAI also allow other popular models to be used as a LLM for your Agents."
   ]
  },
  {
   "cell_type": "code",
   "execution_count": null,
   "metadata": {},
   "outputs": [],
   "source": [
    "import os\n",
    "import getpass\n",
    "\n",
    "# Prompt the user for input (hidden)\n",
    "api_key = getpass.getpass(\"Enter the openai api key to set it as environment variable 'OPENAI_API_KEY': \")\n",
    "api_base = getpass.getpass(\"Enter the openai api base to set it as environment variable 'OPENAI_API_BASE': \")\n",
    "\n",
    "os.environ[\"OPENAI_API_KEY\"] = api_key\n",
    "os.environ[\"OPENAI_API_BASE\"] = api_base\n",
    "os.environ[\"OPENAI_MODEL_NAME\"] = 'gpt-3.5-turbo'"
   ]
  },
  {
   "cell_type": "markdown",
   "metadata": {},
   "source": [
    "## Creating Agents\n",
    "\n",
    "- Define your Agents, and provide them a `role`, `goal` and `backstory`.\n",
    "- It has been seen that LLMs perform better when they are role playing."
   ]
  },
  {
   "cell_type": "markdown",
   "metadata": {},
   "source": [
    "### Agent: Planner\n",
    "\n",
    "**Note**: The benefit of using _multiple strings_ :\n",
    "```Python\n",
    "varname = \"line 1 of text\"\n",
    "          \"line 2 of text\"\n",
    "```\n",
    "\n",
    "versus the _triple quote docstring_:\n",
    "```Python\n",
    "varname = \"\"\"line 1 of text\n",
    "             line 2 of text\n",
    "          \"\"\"\n",
    "```\n",
    "is that it can avoid adding those whitespaces and newline characters, making it better formatted to be passed to the LLM."
   ]
  },
  {
   "cell_type": "code",
   "execution_count": null,
   "metadata": {},
   "outputs": [],
   "source": [
    "topic = \"Artificial Intelligence\"\n",
    "planner = Agent(\n",
    "    role=\"Content Planner\",\n",
    "    goal=\"Plan engaging and factually accurate content on {topic}\",\n",
    "    backstory=\"You're working on planning a blog article \"\n",
    "              \"about the topic: {topic}.\"\n",
    "              \"You collect information that helps the \"\n",
    "              \"audience learn something \"\n",
    "              \"and make informed decisions. \"\n",
    "              \"Your work is the basis for \"\n",
    "              \"the Content Writer to write an article on this topic.\",\n",
    "    allow_delegation=False,\n",
    "\tverbose=True\n",
    ")"
   ]
  },
  {
   "cell_type": "markdown",
   "metadata": {},
   "source": [
    "### Agent: Writer"
   ]
  },
  {
   "cell_type": "code",
   "execution_count": null,
   "metadata": {},
   "outputs": [],
   "source": [
    "\n",
    "writer = Agent(\n",
    "    role=\"Content Writer\",\n",
    "    goal=\"Write insightful and factually accurate \"\n",
    "         \"opinion piece about the topic: {topic}\",\n",
    "    backstory=\"You're working on a writing \"\n",
    "              \"a new opinion piece about the topic: {topic}. \"\n",
    "              \"You base your writing on the work of \"\n",
    "              \"the Content Planner, who provides an outline \"\n",
    "              \"and relevant context about the topic. \"\n",
    "              \"You follow the main objectives and \"\n",
    "              \"direction of the outline, \"\n",
    "              \"as provide by the Content Planner. \"\n",
    "              \"You also provide objective and impartial insights \"\n",
    "              \"and back them up with information \"\n",
    "              \"provide by the Content Planner. \"\n",
    "              \"You acknowledge in your opinion piece \"\n",
    "              \"when your statements are opinions \"\n",
    "              \"as opposed to objective statements.\",\n",
    "    allow_delegation=False,\n",
    "    verbose=True\n",
    ")"
   ]
  },
  {
   "cell_type": "markdown",
   "metadata": {},
   "source": [
    "### Agent: Editor"
   ]
  },
  {
   "cell_type": "code",
   "execution_count": null,
   "metadata": {},
   "outputs": [],
   "source": [
    "editor = Agent(\n",
    "    role=\"Editor\",\n",
    "    goal=\"Edit a given blog post to align with \"\n",
    "         \"the writing style of the organization. \",\n",
    "    backstory=\"You are an editor who receives a blog post \"\n",
    "              \"from the Content Writer. \"\n",
    "              \"Your goal is to review the blog post \"\n",
    "              \"to ensure that it follows journalistic best practices,\"\n",
    "              \"provides balanced viewpoints \"\n",
    "              \"when providing opinions or assertions, \"\n",
    "              \"and also avoids major controversial topics \"\n",
    "              \"or opinions when possible.\",\n",
    "    allow_delegation=False,\n",
    "    verbose=True,\n",
    ")"
   ]
  },
  {
   "cell_type": "markdown",
   "metadata": {},
   "source": [
    "## Creating Tasks\n",
    "\n",
    "- Define your Tasks, and provide them a `description`, `expected_output` and `agent`."
   ]
  },
  {
   "cell_type": "markdown",
   "metadata": {},
   "source": [
    "### Task: Plan"
   ]
  },
  {
   "cell_type": "code",
   "execution_count": null,
   "metadata": {},
   "outputs": [],
   "source": [
    "plan = Task(\n",
    "    description=(\n",
    "        \"1. Prioritize the latest trends, key players, \"\n",
    "            \"and noteworthy news on {topic}.\\n\"\n",
    "        \"2. Identify the target audience, considering \"\n",
    "            \"their interests and pain points.\\n\"\n",
    "        \"3. Develop a detailed content outline including \"\n",
    "            \"an introduction, key points, and a call to action.\\n\"\n",
    "        \"4. Include SEO keywords and relevant data or sources.\"\n",
    "    ),\n",
    "    expected_output=\"A comprehensive content plan document \"\n",
    "        \"with an outline, audience analysis, \"\n",
    "        \"SEO keywords, and resources.\",\n",
    "    agent=planner,\n",
    "    \n",
    ")"
   ]
  },
  {
   "cell_type": "markdown",
   "metadata": {},
   "source": [
    "### Task: Write"
   ]
  },
  {
   "cell_type": "code",
   "execution_count": null,
   "metadata": {},
   "outputs": [],
   "source": [
    "write = Task(\n",
    "    description=(\n",
    "        \"1. Use the content plan to craft a compelling \"\n",
    "            \"blog post on {topic}.\\n\"\n",
    "        \"2. Incorporate SEO keywords naturally.\\n\"\n",
    "\t\t\"3. Sections/Subtitles are properly named \"\n",
    "            \"in an engaging manner.\\n\"\n",
    "        \"4. Ensure the post is structured with an \"\n",
    "            \"engaging introduction, insightful body, \"\n",
    "            \"and a summarizing conclusion.\\n\"\n",
    "        \"5. Proofread for grammatical errors and \"\n",
    "            \"alignment with the brand's voice.\\n\"\n",
    "    ),\n",
    "    expected_output=\"A well-written blog post \"\n",
    "        \"in markdown format, ready for publication, \"\n",
    "        \"each section should have 2 or 3 paragraphs.\",\n",
    "    agent=writer,\n",
    ")"
   ]
  },
  {
   "cell_type": "markdown",
   "metadata": {},
   "source": [
    "### Task: Edit"
   ]
  },
  {
   "cell_type": "code",
   "execution_count": null,
   "metadata": {},
   "outputs": [],
   "source": [
    "edit = Task(\n",
    "    description=(\"Proofread the given blog post for \"\n",
    "                 \"grammatical errors and \"\n",
    "                 \"alignment with the brand's voice.\"),\n",
    "    expected_output=\"A well-written blog post in markdown format, \"\n",
    "                    \"ready for publication, \"\n",
    "                    \"each section should have 2 or 3 paragraphs.\",\n",
    "    agent=editor,\n",
    ")"
   ]
  },
  {
   "cell_type": "markdown",
   "metadata": {},
   "source": [
    "Populating the topic to update agents and tasks with the topic"
   ]
  },
  {
   "cell_type": "code",
   "execution_count": null,
   "metadata": {},
   "outputs": [],
   "source": [
    "# Create a list of agents and tasks\n",
    "agents = [planner, writer, editor]\n",
    "tasks = [plan, write, edit]\n",
    "\n",
    "# Define the topic\n",
    "topic = \"Artificial Intelligence\"\n",
    "\n",
    "# Function to update agents and tasks with the topic\n",
    "def update_topic(agents, tasks, topic):\n",
    "    for agent in agents:\n",
    "        agent.goal = agent.goal.format(topic=topic)\n",
    "        agent.backstory = agent.backstory.format(topic=topic)\n",
    "    for task in tasks:\n",
    "        task.description = task.description.format(topic=topic)\n",
    "\n",
    "# Update all agents and tasks with the topic\n",
    "update_topic(agents, tasks, topic)"
   ]
  },
  {
   "cell_type": "markdown",
   "metadata": {},
   "source": [
    "## Creating the Crew\n",
    "\n",
    "- Create your crew of Agents\n",
    "- Pass the tasks to be performed by those agents.\n",
    "    - **Note**: *For this simple example*, the tasks will be performed sequentially (i.e they are dependent on each other), so the _order_ of the task in the list _matters_.\n",
    "- `verbose=2` allows you to see all the logs of the execution. "
   ]
  },
  {
   "cell_type": "code",
   "execution_count": null,
   "metadata": {},
   "outputs": [],
   "source": [
    "crew = Crew(\n",
    "    agents=[planner, writer, editor],\n",
    "    tasks=[plan, write, edit],\n",
    "    verbose=2\n",
    ")"
   ]
  },
  {
   "cell_type": "markdown",
   "metadata": {},
   "source": [
    "## Running the Crew"
   ]
  },
  {
   "cell_type": "markdown",
   "metadata": {},
   "source": [
    "**Note**: LLMs can provide different outputs for they same input, so what you get might be different than what you see in the video."
   ]
  },
  {
   "cell_type": "code",
   "execution_count": null,
   "metadata": {},
   "outputs": [
    {
     "name": "stdout",
     "output_type": "stream",
     "text": [
      "[DEBUG]: Working Agent: Content Planner\n",
      "[INFO]: Starting Task: 1. Prioritize the latest trends, key players, and noteworthy news on Artificial Intelligence.\n",
      "2. Identify the target audience, considering their interests and pain points.\n",
      "3. Develop a detailed content outline including an introduction, key points, and a call to action.\n",
      "4. Include SEO keywords and relevant data or sources.\n",
      "\n",
      "\n",
      "\u001b[1m> Entering new CrewAgentExecutor chain...\u001b[0m\n",
      "\u001b[32;1m\u001b[1;3mThought: Do I need to use a tool? No\n",
      "\n",
      "Final Answer: \n",
      "\n",
      "1. **Latest Trends, Key Players, and Noteworthy News on Artificial Intelligence:**\n",
      "\n",
      "   - **Trends:**\n",
      "     - Deep Learning: A subset of machine learning that uses neural networks with many layers (deep structures). \n",
      "     - AI in Healthcare: From predicting patient risks to robotic surgeries, AI is revolutionizing healthcare.\n",
      "     - AI and Big Data: AI is being used to process and analyze large volumes of data, driving data-driven decision making.\n",
      "     - Ethical AI: As AI becomes more integrated into society, there's a growing conversation around AI ethics and regulation.\n",
      "  \n",
      "   - **Key Players:**\n",
      "     - Google: Google's DeepMind and Google Brain are two leading AI research labs.\n",
      "     - IBM: IBM's Watson AI has applications in healthcare, business, and more.\n",
      "     - Amazon: Amazon uses AI for recommendation algorithms, Alexa, and more.\n",
      "     - OpenAI: A research organization dedicated to ensuring that artificial general intelligence benefits all of humanity.\n",
      "  \n",
      "   - **News:**\n",
      "     - GPT-3: OpenAI's GPT-3 has made headlines for its impressive language generation abilities.\n",
      "     - AI in COVID-19: AI has been used in various ways in the fight against COVID-19, from predicting spread to developing drugs.\n",
      "\n",
      "2. **Target Audience:**\n",
      "   - Tech enthusiasts who are interested in the latest developments in AI.\n",
      "   - Business professionals looking to understand how AI could impact their industry.\n",
      "   - Students and researchers in the field of AI.\n",
      "\n",
      "3. **Content Outline:**\n",
      "   - **Introduction:** Brief overview of AI and its current impact.\n",
      "   - **Trends in AI:** Detailed analysis of each trend, why it's important, and its potential future impact.\n",
      "   - **Key players in AI:** Overview of each key player, their contributions to AI, and why they're important.\n",
      "   - **AI News:** Discussion of noteworthy news items and their significance.\n",
      "   - **Impact on target audience:** How the above points relate to the target audience's interests and pain points.\n",
      "   - **Conclusion & Call to Action:** Encourage readers to stay informed about AI developments and explore how AI could impact their own lives or businesses.\n",
      "\n",
      "4. **SEO Keywords:**\n",
      "   - Artificial Intelligence, AI, Deep Learning, AI in Healthcare, AI and Big Data, Ethical AI, Google AI, IBM Watson, Amazon AI, OpenAI, GPT-3, AI in COVID-19.\n",
      "\n",
      "5. **Relevant Data/Sources:**\n",
      "   - Research papers and articles from reputable sources.\n",
      "   - Company reports or press releases from key players.\n",
      "   - Data from AI research organizations or industry reports.\u001b[0m\n",
      "\n",
      "\u001b[1m> Finished chain.\u001b[0m\n",
      "[DEBUG]: [Content Planner] Task output: 1. **Latest Trends, Key Players, and Noteworthy News on Artificial Intelligence:**\n",
      "\n",
      "   - **Trends:**\n",
      "     - Deep Learning: A subset of machine learning that uses neural networks with many layers (deep structures). \n",
      "     - AI in Healthcare: From predicting patient risks to robotic surgeries, AI is revolutionizing healthcare.\n",
      "     - AI and Big Data: AI is being used to process and analyze large volumes of data, driving data-driven decision making.\n",
      "     - Ethical AI: As AI becomes more integrated into society, there's a growing conversation around AI ethics and regulation.\n",
      "  \n",
      "   - **Key Players:**\n",
      "     - Google: Google's DeepMind and Google Brain are two leading AI research labs.\n",
      "     - IBM: IBM's Watson AI has applications in healthcare, business, and more.\n",
      "     - Amazon: Amazon uses AI for recommendation algorithms, Alexa, and more.\n",
      "     - OpenAI: A research organization dedicated to ensuring that artificial general intelligence benefits all of humanity.\n",
      "  \n",
      "   - **News:**\n",
      "     - GPT-3: OpenAI's GPT-3 has made headlines for its impressive language generation abilities.\n",
      "     - AI in COVID-19: AI has been used in various ways in the fight against COVID-19, from predicting spread to developing drugs.\n",
      "\n",
      "2. **Target Audience:**\n",
      "   - Tech enthusiasts who are interested in the latest developments in AI.\n",
      "   - Business professionals looking to understand how AI could impact their industry.\n",
      "   - Students and researchers in the field of AI.\n",
      "\n",
      "3. **Content Outline:**\n",
      "   - **Introduction:** Brief overview of AI and its current impact.\n",
      "   - **Trends in AI:** Detailed analysis of each trend, why it's important, and its potential future impact.\n",
      "   - **Key players in AI:** Overview of each key player, their contributions to AI, and why they're important.\n",
      "   - **AI News:** Discussion of noteworthy news items and their significance.\n",
      "   - **Impact on target audience:** How the above points relate to the target audience's interests and pain points.\n",
      "   - **Conclusion & Call to Action:** Encourage readers to stay informed about AI developments and explore how AI could impact their own lives or businesses.\n",
      "\n",
      "4. **SEO Keywords:**\n",
      "   - Artificial Intelligence, AI, Deep Learning, AI in Healthcare, AI and Big Data, Ethical AI, Google AI, IBM Watson, Amazon AI, OpenAI, GPT-3, AI in COVID-19.\n",
      "\n",
      "5. **Relevant Data/Sources:**\n",
      "   - Research papers and articles from reputable sources.\n",
      "   - Company reports or press releases from key players.\n",
      "   - Data from AI research organizations or industry reports.\n",
      "\n",
      "\n",
      "[DEBUG]: Working Agent: Content Writer\n",
      "[INFO]: Starting Task: 1. Use the content plan to craft a compelling blog post on Artificial Intelligence.\n",
      "2. Incorporate SEO keywords naturally.\n",
      "3. Sections/Subtitles are properly named in an engaging manner.\n",
      "4. Ensure the post is structured with an engaging introduction, insightful body, and a summarizing conclusion.\n",
      "5. Proofread for grammatical errors and alignment with the brand's voice.\n",
      "\n",
      "\n",
      "\n",
      "\u001b[1m> Entering new CrewAgentExecutor chain...\u001b[0m\n",
      "\u001b[32;1m\u001b[1;3mThought: Do I need to use a tool? No\n",
      "\n",
      "Final Answer: \n",
      "\n",
      "**Title: Navigating the AI Revolution: Trends, Titans, and Transformative News**\n",
      "\n",
      "**Introduction:**\n",
      "\n",
      "Artificial Intelligence (AI) has rapidly evolved from the realm of science fiction to a game-changing reality impacting all facets of our daily lives. From deep learning algorithms that can outperform human experts, to its revolutionary role in healthcare - AI is here and it’s transforming our world. \n",
      "\n",
      "**Trends in AI:**\n",
      "\n",
      "As AI continues to evolve, several key trends have emerged. Deep Learning, a subset of AI that mimics the human brain's own learning patterns, is driving groundbreaking advancements in technology. In healthcare, AI is predicting patient risks, aiding in diagnosis, and even performing robotic surgeries. AI's ability to process and analyze Big Data is transforming business strategies, enabling data-driven decision-making like never before. Simultaneously, Ethical AI has become a crucial conversation, as we grapple with the implications of integrating AI into society and the need for regulation.\n",
      "\n",
      "**Key Players in AI:**\n",
      "\n",
      "The AI revolution is being led by some familiar names. Google's DeepMind and Google Brain are at the forefront of AI research, while IBM's Watson AI is finding applications in myriad sectors, from healthcare to business. Amazon uses AI across its platform, from recommendation algorithms to its voice assistant, Alexa. Not to be left out, OpenAI is striving to ensure that the benefits of artificial general intelligence are accessible to all.\n",
      "\n",
      "**AI News:**\n",
      "\n",
      "In the news, AI continues to make headlines. OpenAI's GPT-3 has raised eyebrows for its impressive language generation abilities, while AI's role in the fight against COVID-19 - from predicting the virus spread to aiding in drug development - underscores its potential in solving global challenges.\n",
      "\n",
      "**Impact on Target Audience:**\n",
      "\n",
      "For tech enthusiasts, business professionals, and AI researchers alike, these developments offer a plethora of opportunities. Understanding the trends in AI, the key players, and staying abreast with the latest news can provide valuable insights into how AI might shape your industry, research, or even daily life.\n",
      "\n",
      "**Conclusion & Call to Action:**\n",
      "\n",
      "Artificial Intelligence is more than a buzzword - it's a revolution that's changing our world. Stay informed about AI developments and explore how you can leverage AI in your own life or business. With AI shaping our present and future, the only question left is - are you ready for the AI revolution?\u001b[0m\n",
      "\n",
      "\u001b[1m> Finished chain.\u001b[0m\n",
      "[DEBUG]: [Content Writer] Task output: **Title: Navigating the AI Revolution: Trends, Titans, and Transformative News**\n",
      "\n",
      "**Introduction:**\n",
      "\n",
      "Artificial Intelligence (AI) has rapidly evolved from the realm of science fiction to a game-changing reality impacting all facets of our daily lives. From deep learning algorithms that can outperform human experts, to its revolutionary role in healthcare - AI is here and it’s transforming our world. \n",
      "\n",
      "**Trends in AI:**\n",
      "\n",
      "As AI continues to evolve, several key trends have emerged. Deep Learning, a subset of AI that mimics the human brain's own learning patterns, is driving groundbreaking advancements in technology. In healthcare, AI is predicting patient risks, aiding in diagnosis, and even performing robotic surgeries. AI's ability to process and analyze Big Data is transforming business strategies, enabling data-driven decision-making like never before. Simultaneously, Ethical AI has become a crucial conversation, as we grapple with the implications of integrating AI into society and the need for regulation.\n",
      "\n",
      "**Key Players in AI:**\n",
      "\n",
      "The AI revolution is being led by some familiar names. Google's DeepMind and Google Brain are at the forefront of AI research, while IBM's Watson AI is finding applications in myriad sectors, from healthcare to business. Amazon uses AI across its platform, from recommendation algorithms to its voice assistant, Alexa. Not to be left out, OpenAI is striving to ensure that the benefits of artificial general intelligence are accessible to all.\n",
      "\n",
      "**AI News:**\n",
      "\n",
      "In the news, AI continues to make headlines. OpenAI's GPT-3 has raised eyebrows for its impressive language generation abilities, while AI's role in the fight against COVID-19 - from predicting the virus spread to aiding in drug development - underscores its potential in solving global challenges.\n",
      "\n",
      "**Impact on Target Audience:**\n",
      "\n",
      "For tech enthusiasts, business professionals, and AI researchers alike, these developments offer a plethora of opportunities. Understanding the trends in AI, the key players, and staying abreast with the latest news can provide valuable insights into how AI might shape your industry, research, or even daily life.\n",
      "\n",
      "**Conclusion & Call to Action:**\n",
      "\n",
      "Artificial Intelligence is more than a buzzword - it's a revolution that's changing our world. Stay informed about AI developments and explore how you can leverage AI in your own life or business. With AI shaping our present and future, the only question left is - are you ready for the AI revolution?\n",
      "\n",
      "\n",
      "[DEBUG]: Working Agent: Editor\n",
      "[INFO]: Starting Task: Proofread the given blog post for grammatical errors and alignment with the brand's voice.\n",
      "\n",
      "\n",
      "\u001b[1m> Entering new CrewAgentExecutor chain...\u001b[0m\n",
      "\u001b[32;1m\u001b[1;3mThought: Do I need to use a tool? No\n",
      "Final Answer: The blog post is well-written and aligns with journalistic best practices. It provides balanced viewpoints, avoids major controversial topics, and is in line with the organization's writing style. However, there are a few minor edits to improve the text's clarity and coherence:\n",
      "\n",
      "1. In the \"Introduction\" section, replace \"From deep learning algorithms that can outperform human experts, to its revolutionary role in healthcare - AI is here and it’s transforming our world.\" with \"From deep learning algorithms that outperform human experts to its revolutionary role in healthcare, AI is not just a part of our world—it's transforming it.\"\n",
      "\n",
      "2. In the \"Trends in AI\" section, replace \"Simultaneously, Ethical AI has become a crucial conversation, as we grapple with the implications of integrating AI into society and the need for regulation.\" with \"At the same time, the conversation around Ethical AI is becoming crucial as we grapple with the implications of integrating AI into society and the impending need for regulation.\"\n",
      "\n",
      "3. In the \"Key Players in AI\" section, replace \"Not to be left out, OpenAI is striving to ensure that the benefits of artificial general intelligence are accessible to all.\" with \"OpenAI, another notable player, is striving to ensure that the benefits of artificial general intelligence are accessible to all.\"\n",
      "\n",
      "4. In the \"AI News\" section, replace \"In the news, AI continues to make headlines.\" with \"AI continues to dominate the news.\"\n",
      "\n",
      "5. In the \"Conclusion & Call to Action\" section, replace \"With AI shaping our present and future, the only question left is - are you ready for the AI revolution?\" with \"With AI shaping our present and future, the real question is—are you ready for the AI revolution?\"\u001b[0m\n",
      "\n",
      "\u001b[1m> Finished chain.\u001b[0m\n",
      "[DEBUG]: [Editor] Task output: The blog post is well-written and aligns with journalistic best practices. It provides balanced viewpoints, avoids major controversial topics, and is in line with the organization's writing style. However, there are a few minor edits to improve the text's clarity and coherence:\n",
      "\n",
      "1. In the \"Introduction\" section, replace \"From deep learning algorithms that can outperform human experts, to its revolutionary role in healthcare - AI is here and it’s transforming our world.\" with \"From deep learning algorithms that outperform human experts to its revolutionary role in healthcare, AI is not just a part of our world—it's transforming it.\"\n",
      "\n",
      "2. In the \"Trends in AI\" section, replace \"Simultaneously, Ethical AI has become a crucial conversation, as we grapple with the implications of integrating AI into society and the need for regulation.\" with \"At the same time, the conversation around Ethical AI is becoming crucial as we grapple with the implications of integrating AI into society and the impending need for regulation.\"\n",
      "\n",
      "3. In the \"Key Players in AI\" section, replace \"Not to be left out, OpenAI is striving to ensure that the benefits of artificial general intelligence are accessible to all.\" with \"OpenAI, another notable player, is striving to ensure that the benefits of artificial general intelligence are accessible to all.\"\n",
      "\n",
      "4. In the \"AI News\" section, replace \"In the news, AI continues to make headlines.\" with \"AI continues to dominate the news.\"\n",
      "\n",
      "5. In the \"Conclusion & Call to Action\" section, replace \"With AI shaping our present and future, the only question left is - are you ready for the AI revolution?\" with \"With AI shaping our present and future, the real question is—are you ready for the AI revolution?\"\n",
      "\n",
      "\n"
     ]
    }
   ],
   "source": [
    "result = crew.kickoff()"
   ]
  },
  {
   "cell_type": "code",
   "execution_count": null,
   "metadata": {},
   "outputs": [
    {
     "data": {
      "text/markdown": [
       "The blog post is well-written and aligns with journalistic best practices. It provides balanced viewpoints, avoids major controversial topics, and is in line with the organization's writing style. However, there are a few minor edits to improve the text's clarity and coherence:\n",
       "\n",
       "1. In the \"Introduction\" section, replace \"From deep learning algorithms that can outperform human experts, to its revolutionary role in healthcare - AI is here and it’s transforming our world.\" with \"From deep learning algorithms that outperform human experts to its revolutionary role in healthcare, AI is not just a part of our world—it's transforming it.\"\n",
       "\n",
       "2. In the \"Trends in AI\" section, replace \"Simultaneously, Ethical AI has become a crucial conversation, as we grapple with the implications of integrating AI into society and the need for regulation.\" with \"At the same time, the conversation around Ethical AI is becoming crucial as we grapple with the implications of integrating AI into society and the impending need for regulation.\"\n",
       "\n",
       "3. In the \"Key Players in AI\" section, replace \"Not to be left out, OpenAI is striving to ensure that the benefits of artificial general intelligence are accessible to all.\" with \"OpenAI, another notable player, is striving to ensure that the benefits of artificial general intelligence are accessible to all.\"\n",
       "\n",
       "4. In the \"AI News\" section, replace \"In the news, AI continues to make headlines.\" with \"AI continues to dominate the news.\"\n",
       "\n",
       "5. In the \"Conclusion & Call to Action\" section, replace \"With AI shaping our present and future, the only question left is - are you ready for the AI revolution?\" with \"With AI shaping our present and future, the real question is—are you ready for the AI revolution?\""
      ],
      "text/plain": [
       "<IPython.core.display.Markdown object>"
      ]
     },
     "execution_count": 28,
     "metadata": {},
     "output_type": "execute_result"
    }
   ],
   "source": [
    "from IPython.display import Markdown\n",
    "Markdown(result)"
   ]
  }
 ],
 "metadata": {
  "kernelspec": {
   "display_name": "pysparkenv",
   "language": "python",
   "name": "python3"
  },
  "language_info": {
   "codemirror_mode": {
    "name": "ipython",
    "version": 3
   },
   "file_extension": ".py",
   "mimetype": "text/x-python",
   "name": "python",
   "nbconvert_exporter": "python",
   "pygments_lexer": "ipython3",
   "version": "3.9.6"
  }
 },
 "nbformat": 4,
 "nbformat_minor": 2
}
